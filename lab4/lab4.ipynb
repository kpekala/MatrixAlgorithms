{
 "cells": [
  {
   "cell_type": "markdown",
   "metadata": {},
   "source": [
    "## Laboratorium nr 4"
   ]
  },
  {
   "cell_type": "code",
   "execution_count": 1,
   "metadata": {},
   "outputs": [],
   "source": [
    "import numpy as np\n",
    "import matplotlib.pyplot as plt\n",
    "import pandas as pd\n",
    "from time import time\n",
    "from math import sqrt\n",
    "from pprint import pprint"
   ]
  },
  {
   "cell_type": "markdown",
   "metadata": {},
   "source": [
    "### Wczytywanie macierzy"
   ]
  },
  {
   "cell_type": "code",
   "execution_count": 2,
   "metadata": {},
   "outputs": [],
   "source": [
    "def load_base_matrix(type_, number):  \n",
    "    return np.genfromtxt(type_+number+'.csv', delimiter=',')\n",
    "\n",
    "def generate_matrix(A, q):\n",
    "    return np.block([[A] * q] * q)"
   ]
  },
  {
   "cell_type": "markdown",
   "metadata": {},
   "source": [
    "## Macierz FEM\n",
    "### Załadujmy naszą macierz testową A"
   ]
  },
  {
   "cell_type": "code",
   "execution_count": 3,
   "metadata": {},
   "outputs": [
    {
     "data": {
      "image/png": "[encoded data removed]",
      "text/plain": [
       "<Figure size 360x360 with 1 Axes>"
      ]
     },
     "metadata": {
      "needs_background": "light"
     },
     "output_type": "display_data"
    }
   ],
   "source": [
    "A = load_base_matrix('fem', '5')\n",
    "fig, axs = plt.subplots(figsize = (5, 5))\n",
    "axs.spy(A)\n",
    "plt.show()"
   ]
  },
  {
   "cell_type": "markdown",
   "metadata": {},
   "source": [
    "## Zamiana macierzy numpy na listę pythonową"
   ]
  },
  {
   "cell_type": "code",
   "execution_count": 4,
   "metadata": {},
   "outputs": [],
   "source": [
    "A_list = A.tolist()"
   ]
  },
  {
   "cell_type": "markdown",
   "metadata": {},
   "source": [
    "## Konwersja macierzy z tablicy 2d na macierz rządką CSR"
   ]
  },
  {
   "cell_type": "code",
   "execution_count": 6,
   "metadata": {},
   "outputs": [],
   "source": [
    "def csr_convert(M_list):\n",
    "    n = len(M_list)\n",
    "    values = []\n",
    "    col_index = []\n",
    "    row_index = [0]\n",
    "    for row_i in range(n):\n",
    "        if row_i != 0:\n",
    "            row_index.append(len(values))\n",
    "        for col_i in range(n):\n",
    "            val = M_list[row_i][col_i] \n",
    "            if val == 0:\n",
    "                continue\n",
    "            values.append(val)\n",
    "            col_index.append(col_i)\n",
    "    row_index.append(len(values))\n",
    "    return values, col_index, row_index\n",
    "            "
   ]
  },
  {
   "cell_type": "code",
   "execution_count": 7,
   "metadata": {},
   "outputs": [
    {
     "name": "stdout",
     "output_type": "stream",
     "text": [
      "([5, 8, 3, 6], [0, 1, 2, 1], [0, 1, 2, 3, 4])\n"
     ]
    }
   ],
   "source": [
    "print(csr_convert([[5,0,0,0], [0, 8,0,0], [0,0,3,0], [0,6,0,0]])) #przykład z Wikipedii"
   ]
  },
  {
   "cell_type": "markdown",
   "metadata": {},
   "source": [
    "## Faktoryzacja Cholesky'ego na macierzy gęstej dense"
   ]
  },
  {
   "cell_type": "code",
   "execution_count": 10,
   "metadata": {},
   "outputs": [],
   "source": [
    "def cholesky_dense(A):\n",
    "    n = len(A)\n",
    "\n",
    "    L = [[0.0] * n for i in range(n)]\n",
    "\n",
    "    for i in range(n):\n",
    "        for k in range(i+1):\n",
    "            tmp_sum = sum(L[i][j] * L[k][j] for j in range(k))\n",
    "            \n",
    "            if i == k: \n",
    "                L[i][k] = sqrt(A[i][i] - tmp_sum)\n",
    "            else:\n",
    "                L[i][k] = (1.0 / L[k][k] * (A[i][k] - tmp_sum))\n",
    "    return L"
   ]
  },
  {
   "cell_type": "code",
   "execution_count": 11,
   "metadata": {},
   "outputs": [
    {
     "name": "stdout",
     "output_type": "stream",
     "text": [
      "A:\n",
      "[[6, 0, 0, 0], [3, 6, 0, 0], [4, 5, 10, 0], [8, 1, 7, 25]]\n",
      "L:\n",
      "[[2.449489742783178, 0.0, 0.0, 0.0],\n",
      " [1.2247448713915892, 2.1213203435596424, 0.0, 0.0],\n",
      " [1.6329931618554523, 1.414213562373095, 2.309401076758503, 0.0],\n",
      " [3.2659863237109046,\n",
      "  -1.4142135623730956,\n",
      "  1.5877132402714704,\n",
      "  3.1324910215354165]]\n"
     ]
    }
   ],
   "source": [
    " \n",
    "A = [[6, 0,0,0], \n",
    "     [3, 6, 0,0], \n",
    "     [4, 5, 10, 0], \n",
    "     [8, 1, 7, 25]]\n",
    "L = cholesky_dense(A)\n",
    "\n",
    "print(\"A:\")\n",
    "pprint(A)\n",
    "\n",
    "print(\"L:\")\n",
    "pprint(L)"
   ]
  },
  {
   "cell_type": "markdown",
   "metadata": {},
   "source": [
    "## Faktoryzacja Cholesky'ego na macierzy rzadkiej (sparse) - format CSR"
   ]
  },
  {
   "cell_type": "code",
   "execution_count": 14,
   "metadata": {},
   "outputs": [],
   "source": [
    "def value(V, C, R, i, j):\n",
    "    for x in range(R[i], R[i+1]):\n",
    "        if C[x] == j:\n",
    "            return V[x]\n",
    "    return 0\n",
    "\n",
    "def cholesky_sparse_slow(V, C, R):\n",
    "    n = len(R) - 1\n",
    "    L = [[0.0] * n for i in range(n)]\n",
    "    for i in range(n):\n",
    "        for k in range(i+1):\n",
    "            tmp_sum = sum(L[i][j] * L[k][j] for j in range(k))\n",
    "            if i == k: \n",
    "                L[i][k] = sqrt(value(V,C,R,i,i) - tmp_sum)\n",
    "            else:\n",
    "                L[i][k] = (1.0 / L[k][k] * (value(V,C,R,i,k) - tmp_sum))\n",
    "    return L\n",
    "            "
   ]
  },
  {
   "cell_type": "code",
   "execution_count": 15,
   "metadata": {},
   "outputs": [],
   "source": [
    "def cholesky_sparse(V, C, R):\n",
    "    n = len(R) - 1\n",
    "    L = [[0.0] * n for i in range(n)]\n",
    "    for i in range(n):\n",
    "        for k in range(i+1):\n",
    "            a = R[i]\n",
    "            b = R[k]\n",
    "            s = 0\n",
    "            while (a < R[i+1] and b < R[k+1]) and (C[a] < k and C[b] < k):\n",
    "                if C[a] == C[b]:\n",
    "                    s += L[i][C[a]] * L[k][C[b]]\n",
    "                    a+=1\n",
    "                    b+=1\n",
    "                elif C[a] < C[b]:\n",
    "                    a+=1\n",
    "                else:\n",
    "                    b+=1\n",
    "            if i == k: \n",
    "                L[i][k] = sqrt(value(V,C,R,i,i) - s)\n",
    "            else:\n",
    "                L[i][k] = (1.0 / L[k][k] * (value(V,C,R,i,k) - s))\n",
    "    return L"
   ]
  },
  {
   "cell_type": "code",
   "execution_count": 16,
   "metadata": {},
   "outputs": [
    {
     "name": "stdout",
     "output_type": "stream",
     "text": [
      "CSR format:\n",
      "[6, 3, 4, 8, 3, 6, 5, 1, 4, 5, 10, 7, 8, 1, 7, 25] [0, 1, 2, 3, 0, 1, 2, 3, 0, 1, 2, 3, 0, 1, 2, 3] [0, 4, 8, 12, 16]\n"
     ]
    }
   ],
   "source": [
    "A = [[6, 3, 4, 8], [3, 6, 5, 1], [4, 5, 10, 7], [8, 1, 7, 25]]\n",
    "V,C,R = csr_convert(A)\n",
    "print(\"CSR format:\")\n",
    "print(V,C,R)"
   ]
  },
  {
   "cell_type": "code",
   "execution_count": 18,
   "metadata": {},
   "outputs": [
    {
     "name": "stdout",
     "output_type": "stream",
     "text": [
      "[[2.449489742783178, 0.0, 0.0, 0.0],\n",
      " [1.2247448713915892, 2.1213203435596424, 0.0, 0.0],\n",
      " [1.6329931618554523, 1.414213562373095, 2.309401076758503, 0.0],\n",
      " [3.2659863237109046,\n",
      "  -1.4142135623730956,\n",
      "  1.5877132402714704,\n",
      "  3.1324910215354165]]\n"
     ]
    }
   ],
   "source": [
    "L = cholesky_sparse(V,C,R)\n",
    "pprint(L)"
   ]
  },
  {
   "cell_type": "code",
   "execution_count": 21,
   "metadata": {},
   "outputs": [],
   "source": [
    "def test_dense(M):\n",
    "    st = time()\n",
    "    L = cholesky_dense(M)\n",
    "    print(time() - st)\n",
    "    L = [[round(x,4) for x in l] for l in L]\n",
    "    return L\n",
    "    \n",
    "def test_sparse(V,C,R):\n",
    "    st = time()\n",
    "    L = cholesky_sparse(V,C,R)\n",
    "    print(time() - st)\n",
    "    L = [[round(x,4) for x in l] for l in L]\n",
    "    return L"
   ]
  },
  {
   "cell_type": "code",
   "execution_count": 22,
   "metadata": {},
   "outputs": [
    {
     "name": "stdout",
     "output_type": "stream",
     "text": [
      "0.018989086151123047\n"
     ]
    }
   ],
   "source": [
    "V,C,R = csr_convert(A_list)\n",
    "LS = test_sparse(V,C,R)"
   ]
  },
  {
   "cell_type": "code",
   "execution_count": 23,
   "metadata": {},
   "outputs": [
    {
     "name": "stdout",
     "output_type": "stream",
     "text": [
      "0.044974565505981445\n"
     ]
    }
   ],
   "source": [
    "LD = test_dense(A_list)"
   ]
  },
  {
   "cell_type": "code",
   "execution_count": 25,
   "metadata": {},
   "outputs": [],
   "source": [
    "LS = np.array(LS)\n",
    "LD = np.array(LD)"
   ]
  },
  {
   "cell_type": "markdown",
   "metadata": {},
   "source": [
    "## Porównanie rezultatu faktoryzacji dla obydwu formatów macierzy"
   ]
  },
  {
   "cell_type": "code",
   "execution_count": 31,
   "metadata": {},
   "outputs": [
    {
     "data": {
      "image/png": "[encoded data removed]",
      "text/plain": [
       "<Figure size 720x720 with 2 Axes>"
      ]
     },
     "metadata": {
      "needs_background": "light"
     },
     "output_type": "display_data"
    }
   ],
   "source": [
    "fig, axs = plt.subplots(1, 2 ,figsize = (10,10))\n",
    "\n",
    "axs[0].spy(LS)\n",
    "axs[1].spy(LD)\n",
    "plt.show()"
   ]
  },
  {
   "cell_type": "markdown",
   "metadata": {},
   "source": [
    "## Testowanie na macierzy (0,18,2,0)"
   ]
  },
  {
   "cell_type": "code",
   "execution_count": 33,
   "metadata": {},
   "outputs": [
    {
     "data": {
      "image/png": "[encoded data removed]",
      "text/plain": [
       "<Figure size 360x360 with 1 Axes>"
      ]
     },
     "metadata": {
      "needs_background": "light"
     },
     "output_type": "display_data"
    }
   ],
   "source": [
    "A = load_base_matrix('400x400', '')\n",
    "fig, axs = plt.subplots(figsize = (5, 5))\n",
    "axs.spy(A)\n",
    "plt.show()"
   ]
  },
  {
   "cell_type": "markdown",
   "metadata": {},
   "source": [
    "## Porównanie czasu działania eliminacji rzadkiej i gęstej dla macierzy 400x400"
   ]
  },
  {
   "cell_type": "markdown",
   "metadata": {},
   "source": [
    "### Macierz gęsta"
   ]
  },
  {
   "cell_type": "code",
   "execution_count": 48,
   "metadata": {},
   "outputs": [
    {
     "name": "stdout",
     "output_type": "stream",
     "text": [
      "10.140737056732178\n"
     ]
    }
   ],
   "source": [
    "A_list = A.tolist()\n",
    "LD = test_dense(A_list)"
   ]
  },
  {
   "cell_type": "markdown",
   "metadata": {},
   "source": [
    "### Macierz rzadka"
   ]
  },
  {
   "cell_type": "code",
   "execution_count": 40,
   "metadata": {},
   "outputs": [
    {
     "name": "stdout",
     "output_type": "stream",
     "text": [
      "0.2420487403869629\n"
     ]
    }
   ],
   "source": [
    "V,C,R = csr_convert(A_list)\n",
    "LS = test_sparse(V,C,R)"
   ]
  },
  {
   "cell_type": "markdown",
   "metadata": {},
   "source": [
    "## Porównanie złożoności pamięcowej eliminacji rzadkiej i gęstej dla macierzy 400x400"
   ]
  },
  {
   "cell_type": "markdown",
   "metadata": {},
   "source": [
    "#### Jest taka sama - $O(n^2)$. Dlaczego taka dla macierzy rzadkiej? Dla uproszczenia nasz algorytm csr tworzy wynikową macierz 2d, taką, jaka jest w przypadku algorytmu dla formatu macierzy gęstej."
   ]
  },
  {
   "cell_type": "markdown",
   "metadata": {},
   "source": [
    "## Testowanie na macierzy(1,13,3,0)"
   ]
  },
  {
   "cell_type": "code",
   "execution_count": 47,
   "metadata": {
    "scrolled": false
   },
   "outputs": [
    {
     "data": {
      "image/png": "[encoded data removed]",
      "text/plain": [
       "<Figure size 360x360 with 1 Axes>"
      ]
     },
     "metadata": {
      "needs_background": "light"
     },
     "output_type": "display_data"
    }
   ],
   "source": [
    "A = load_base_matrix('784x784', '')\n",
    "fig, axs = plt.subplots(figsize = (5, 5))\n",
    "axs.spy(A)\n",
    "plt.show()"
   ]
  },
  {
   "cell_type": "markdown",
   "metadata": {},
   "source": [
    "### Macierz gęsta"
   ]
  },
  {
   "cell_type": "code",
   "execution_count": 49,
   "metadata": {},
   "outputs": [
    {
     "name": "stdout",
     "output_type": "stream",
     "text": [
      "10.240760087966919\n"
     ]
    }
   ],
   "source": [
    "A_list = A.tolist()\n",
    "LD = test_dense(A_list)"
   ]
  },
  {
   "cell_type": "markdown",
   "metadata": {},
   "source": [
    "### Macierz rzadka"
   ]
  },
  {
   "cell_type": "code",
   "execution_count": 50,
   "metadata": {},
   "outputs": [
    {
     "name": "stdout",
     "output_type": "stream",
     "text": [
      "1.206003189086914\n"
     ]
    }
   ],
   "source": [
    "V,C,R = csr_convert(A_list)\n",
    "LS = test_sparse(V,C,R)"
   ]
  }
 ],
 "metadata": {
  "kernelspec": {
   "display_name": "Python 3",
   "language": "python",
   "name": "python3"
  },
  "language_info": {
   "codemirror_mode": {
    "name": "ipython",
    "version": 3
   },
   "file_extension": ".py",
   "mimetype": "text/x-python",
   "name": "python",
   "nbconvert_exporter": "python",
   "pygments_lexer": "ipython3",
   "version": "3.8.3"
  }
 },
 "nbformat": 4,
 "nbformat_minor": 4
}
