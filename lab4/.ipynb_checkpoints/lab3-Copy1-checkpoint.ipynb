{
 "cells": [
  {
   "cell_type": "markdown",
   "metadata": {},
   "source": [
    "## Laboratorium nr 3"
   ]
  },
  {
   "cell_type": "code",
   "execution_count": 1,
   "metadata": {},
   "outputs": [],
   "source": [
    "import numpy as np\n",
    "import matplotlib.pyplot as plt\n",
    "import pandas as pd\n",
    "import time"
   ]
  },
  {
   "cell_type": "markdown",
   "metadata": {},
   "source": [
    "### Wczytywanie macierzy"
   ]
  },
  {
   "cell_type": "code",
   "execution_count": 2,
   "metadata": {},
   "outputs": [],
   "source": [
    "def load_base_matrix(type_, number):  \n",
    "    return np.genfromtxt(type_+number+'.csv', delimiter=',')\n",
    "\n",
    "def generate_matrix(A, q):\n",
    "    return np.block([[A] * q] * q)"
   ]
  },
  {
   "cell_type": "markdown",
   "metadata": {},
   "source": [
    "## Macierz FEM\n",
    "### Załadujmy naszą macierz testową A"
   ]
  },
  {
   "cell_type": "markdown",
   "metadata": {},
   "source": [
    "## $ A \\cdot A: $"
   ]
  },
  {
   "cell_type": "code",
   "execution_count": 3,
   "metadata": {},
   "outputs": [
    {
     "data": {
      "image/png": "[encoded data removed]",
      "text/plain": [
       "<Figure size 360x360 with 1 Axes>"
      ]
     },
     "metadata": {
      "needs_background": "light"
     },
     "output_type": "display_data"
    }
   ],
   "source": [
    "A = load_base_matrix('fem', '4')\n",
    "fig, axs = plt.subplots(figsize = (5, 5))\n",
    "axs.spy(A)\n",
    "plt.show()"
   ]
  },
  {
   "cell_type": "code",
   "execution_count": 4,
   "metadata": {},
   "outputs": [
    {
     "data": {
      "image/png": "[encoded data removed]",
      "text/plain": [
       "<Figure size 360x360 with 1 Axes>"
      ]
     },
     "metadata": {
      "needs_background": "light"
     },
     "output_type": "display_data"
    }
   ],
   "source": [
    "fig, axs = plt.subplots(figsize = (5, 5))\n",
    "axs.spy(A@A)\n",
    "plt.show()"
   ]
  },
  {
   "cell_type": "markdown",
   "metadata": {},
   "source": [
    "## Zamiana macierzy numpy na listę pythonową"
   ]
  },
  {
   "cell_type": "code",
   "execution_count": 5,
   "metadata": {},
   "outputs": [],
   "source": [
    "A_list = A.tolist()"
   ]
  },
  {
   "cell_type": "markdown",
   "metadata": {},
   "source": [
    "## Konwersja macierzy z tablicy 2d na macierz rządką CSR"
   ]
  },
  {
   "cell_type": "code",
   "execution_count": 6,
   "metadata": {},
   "outputs": [],
   "source": [
    "def csr_convert(M_list):\n",
    "    n = len(M_list)\n",
    "    values = []\n",
    "    col_index = []\n",
    "    row_index = [0]\n",
    "    for row_i in range(n):\n",
    "        if row_i != 0:\n",
    "            row_index.append(len(values))\n",
    "        for col_i in range(n):\n",
    "            val = M_list[row_i][col_i] \n",
    "            if val == 0:\n",
    "                continue\n",
    "            values.append(val)\n",
    "            col_index.append(col_i)\n",
    "    row_index.append(len(values))\n",
    "    return values, col_index, row_index\n",
    "            "
   ]
  },
  {
   "cell_type": "code",
   "execution_count": 7,
   "metadata": {},
   "outputs": [
    {
     "name": "stdout",
     "output_type": "stream",
     "text": [
      "([5, 8, 3, 6], [0, 1, 2, 1], [0, 1, 2, 3, 4])\n"
     ]
    }
   ],
   "source": [
    "print(csr_convert([[5,0,0,0], [0, 8,0,0], [0,0,3,0], [0,6,0,0]])) #przykład z Wikipedii"
   ]
  },
  {
   "cell_type": "markdown",
   "metadata": {},
   "source": [
    "## Mnożenie macierzy CSR x CSR"
   ]
  },
  {
   "cell_type": "code",
   "execution_count": 39,
   "metadata": {},
   "outputs": [],
   "source": [
    "def get_value(v2, c2, r2, row, col):\n",
    "    for coli in range(r2[row],r2[row+1]):\n",
    "        if col == c2[coli]:\n",
    "            return v2[coli]\n",
    "    return 0\n",
    "    \n",
    "\n",
    "\n",
    "def multiply(v1, c1, r1, v2, c2, r2):\n",
    "    n = len(r1) -1\n",
    "    res = [[0] * n for _ in range(n)]\n",
    "    csr_row = 0 \n",
    "    for i in range(n):\n",
    "        start, end = r1[i], r1[i + 1]\n",
    "        for j in range(start, end):\n",
    "            col, csr_value = c1[j], v1[j]\n",
    "            for k in range(n):\n",
    "                #wymnazamy element z v1 z kolumną csr_row\n",
    "                #value2 = get_value(v2,c2,r2, k, csr_row)\n",
    "                #res[k][col] += csr_value * value2\n",
    "                res[i][k] += csr_value * get_value(v2,c2,r2, col, k)\n",
    "        csr_row += 1\n",
    "    return res"
   ]
  },
  {
   "cell_type": "code",
   "execution_count": null,
   "metadata": {},
   "outputs": [],
   "source": []
  },
  {
   "cell_type": "code",
   "execution_count": 9,
   "metadata": {},
   "outputs": [],
   "source": [
    "v1, c1, r1 = csr_convert([[5,0,0,0], [0, 8,0,0], [0,0,3,0], [0,6,0,0]])\n",
    "v2, c2, r2 = csr_convert([[5,0,0,0], [0, 8,0,0], [0,0,3,0], [0,6,0,0]])"
   ]
  },
  {
   "cell_type": "code",
   "execution_count": 17,
   "metadata": {},
   "outputs": [
    {
     "data": {
      "text/plain": [
       "[[25, 0, 0, 0], [0, 64, 0, 0], [0, 0, 9, 0], [0, 48, 0, 0]]"
      ]
     },
     "execution_count": 17,
     "metadata": {},
     "output_type": "execute_result"
    }
   ],
   "source": [
    "multiply(v1, c1, r1, v2, c2, r2)"
   ]
  },
  {
   "cell_type": "code",
   "execution_count": 18,
   "metadata": {},
   "outputs": [],
   "source": [
    "C = np.matrix([[5,0,0,2], [0, 8,0,0], [0,0,3,0], [0,6,0,0]])"
   ]
  },
  {
   "cell_type": "code",
   "execution_count": 23,
   "metadata": {},
   "outputs": [
    {
     "name": "stdout",
     "output_type": "stream",
     "text": [
      "[[25 12  0 10]\n",
      " [ 0 64  0  0]\n",
      " [ 0  0  9  0]\n",
      " [ 0 48  0  0]]\n"
     ]
    }
   ],
   "source": [
    "print(C@C)"
   ]
  },
  {
   "cell_type": "code",
   "execution_count": 41,
   "metadata": {},
   "outputs": [
    {
     "name": "stdout",
     "output_type": "stream",
     "text": [
      "[[1.63271605e-04 1.17129630e-04 9.58333333e-05 ... 0.00000000e+00\n",
      "  0.00000000e+00 0.00000000e+00]\n",
      " [1.17129630e-04 1.20679012e-04 1.81018519e-04 ... 0.00000000e+00\n",
      "  0.00000000e+00 0.00000000e+00]\n",
      " [9.58333333e-05 1.81018519e-04 5.82098765e-04 ... 0.00000000e+00\n",
      "  0.00000000e+00 0.00000000e+00]\n",
      " ...\n",
      " [0.00000000e+00 0.00000000e+00 0.00000000e+00 ... 5.82098765e-04\n",
      "  1.81018519e-04 9.58333333e-05]\n",
      " [0.00000000e+00 0.00000000e+00 0.00000000e+00 ... 1.81018519e-04\n",
      "  1.20679012e-04 1.17129630e-04]\n",
      " [0.00000000e+00 0.00000000e+00 0.00000000e+00 ... 9.58333333e-05\n",
      "  1.17129630e-04 1.63271605e-04]]\n"
     ]
    }
   ],
   "source": [
    "A = load_base_matrix('fem', '4')\n",
    "print(A@A)"
   ]
  },
  {
   "cell_type": "code",
   "execution_count": 43,
   "metadata": {},
   "outputs": [
    {
     "name": "stdout",
     "output_type": "stream",
     "text": [
      "[[1.63271605e-04 1.17129630e-04 9.58333333e-05 ... 0.00000000e+00\n",
      "  0.00000000e+00 0.00000000e+00]\n",
      " [1.17129630e-04 1.20679012e-04 1.81018519e-04 ... 0.00000000e+00\n",
      "  0.00000000e+00 0.00000000e+00]\n",
      " [9.58333333e-05 1.81018519e-04 5.82098765e-04 ... 0.00000000e+00\n",
      "  0.00000000e+00 0.00000000e+00]\n",
      " ...\n",
      " [0.00000000e+00 0.00000000e+00 0.00000000e+00 ... 5.82098765e-04\n",
      "  1.81018519e-04 9.58333333e-05]\n",
      " [0.00000000e+00 0.00000000e+00 0.00000000e+00 ... 1.81018519e-04\n",
      "  1.20679012e-04 1.17129630e-04]\n",
      " [0.00000000e+00 0.00000000e+00 0.00000000e+00 ... 9.58333333e-05\n",
      "  1.17129630e-04 1.63271605e-04]]\n"
     ]
    }
   ],
   "source": [
    "a,b,c = csr_convert(A.tolist())\n",
    "res = multiply(a,b,c,a,b,c)\n",
    "print(np.matrix(res))"
   ]
  }
 ],
 "metadata": {
  "kernelspec": {
   "display_name": "Python 3",
   "language": "python",
   "name": "python3"
  },
  "language_info": {
   "codemirror_mode": {
    "name": "ipython",
    "version": 3
   },
   "file_extension": ".py",
   "mimetype": "text/x-python",
   "name": "python",
   "nbconvert_exporter": "python",
   "pygments_lexer": "ipython3",
   "version": "3.8.3"
  }
 },
 "nbformat": 4,
 "nbformat_minor": 4
}
